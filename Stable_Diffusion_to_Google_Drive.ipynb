{
  "nbformat": 4,
  "nbformat_minor": 0,
  "metadata": {
    "colab": {
      "provenance": []
      "name": "Stable_Diffusion_to_Google_Drive.ipynb",
    },
    "kernelspec": {
      "name": "python3",
      "display_name": "Python 3"
    },
    "language_info": {
      "name": "python"
    }
  },
  "cells": [
    {
      "cell_type": "markdown",
      "source": [
        "# Download Stable Diffusion weights directly to google drive\n",
        "\n",
        "### **WARNING**: This script will delete any file or folder called `sd-v1-4.ckpt` inside your drive's root directory."
      ],
      "metadata": {
        "id": "br0jWlHMmJPb"
      }
    },
    {
      "cell_type": "code",
      "source": [
        "#@title Install huggingface\n",
        "!pip install --upgrade huggingface_hub"
      ],
      "metadata": {
        "cellView": "form",
        "id": "UrZOXnSZnF-Z"
      },
      "execution_count": null,
      "outputs": []
    },
    {
      "cell_type": "code",
      "execution_count": null,
      "metadata": {
        "cellView": "form",
        "id": "ztWKs4GUkjYp"
      },
      "outputs": [],
      "source": [
        "#@title Login to huggingface\n",
        "from huggingface_hub import notebook_login\n",
        "#notebook_login()\n",
        "!huggingface-cli login"
      ]
    },
    {
      "cell_type": "code",
      "source": [
        "#@title Download Stable Diffusion weights\n",
        "from huggingface_hub import hf_hub_download\n",
        "import shutil\n",
        "\n",
        "!rm \"/content/sd-v1-4.ckpt\"\n",
        "sd_path = hf_hub_download(repo_id=\"CompVis/stable-diffusion-v-1-4-original\", filename=\"sd-v1-4.ckpt\")\n",
        "shutil.copyfile(sd_path, \"/content/sd-v1-4.ckpt\")\n"
      ],
      "metadata": {
        "cellView": "form",
        "id": "ufgEFnC0nSOr"
      },
      "execution_count": null,
      "outputs": []
    },
    {
      "cell_type": "code",
      "source": [
        "#@title Mount Google Drive\n",
        "from google.colab import drive\n",
        "drive.mount('/content/gdrive')"
      ],
      "metadata": {
        "cellView": "form",
        "id": "rsXmL3bExTq7"
      },
      "execution_count": null,
      "outputs": []
    },
    {
      "cell_type": "code",
      "source": [
        "#@title Copy weights to Goodle Drive\n",
        "#@markdown The downloaded checkpoint will not be split if `dl_split_amount` is set to 0.\n",
        "\n",
        "dl_split_amount = 0 #@param {type:\"integer\"}\n",
        "dl_split_type = \"bytes\" #@param [\"bytes\", \"KB\", \"MB\", \"GB\"] \n",
        "\n",
        "dl_split_realtype_list = {\n",
        "    \"bytes\": \"\",\n",
        "    \"KB\": \"K\",\n",
        "    \"MB\": \"M\",\n",
        "    \"GB\": \"G\"\n",
        "}\n",
        "dl_split_realtype = dl_split_realtype_list[dl_split_type]\n",
        "\n",
        "!rm -rf \"/content/gdrive/MyDrive/sd-v1-4.ckpt\"\n",
        "\n",
        "if dl_split_amount is 0:\n",
        "  print(\"Saving weights to drive...\")\n",
        "  shutil.copy(\"/content/sd-v1-4.ckpt\", \"/content/gdrive/MyDrive/sd-v1-4.ckpt\")\n",
        "  print(\"Done!\")\n",
        "else:\n",
        "  !mkdir -p \"/content/gdrive/MyDrive/sd-v1-4.ckpt\"\n",
        "  print(\"Saving split weights to drive...\")\n",
        "  !split -b $dl_split_amount$dl_split_realtype \"/content/sd-v1-4.ckpt\" \"/content/gdrive/MyDrive/sd-v1-4.ckpt/sd_\"\n",
        "  print(\"Done!\")\n"
      ],
      "metadata": {
        "cellView": "form",
        "id": "gSy-FqM0ymFF"
      },
      "execution_count": 7,
      "outputs": []
    }
  ]
}