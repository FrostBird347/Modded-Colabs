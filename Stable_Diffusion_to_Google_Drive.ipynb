{
  "nbformat": 4,
  "nbformat_minor": 0,
  "metadata": {
    "colab": {
      "provenance": [],
      "name": "Stable_Diffusion_to_Google_Drive.ipynb"
    },
    "kernelspec": {
      "name": "python3",
      "display_name": "Python 3"
    },
    "language_info": {
      "name": "python"
    }
  },
  "cells": [
    {
      "cell_type": "markdown",
      "source": [
        "# Download Stable Diffusion weights directly to google drive\n",
        "\n",
        "### **WARNING**: This script will delete any file or folder called `sd-v1-4.ckpt` or `sd-v2-1.ckpt` inside your drive's root directory.\n",
        "\n",
        "### **ANOTHER WARNING**: Stable Diffusion's weights are 5GB in size! You will need this much free space in google drive.\n",
        "\n",
        "#### This simple colab was written by [FrostBird347](https://github.com/FrostBird347).\n"
      ],
      "metadata": {
        "id": "br0jWlHMmJPb"
      }
    },
    {
      "cell_type": "markdown",
      "source": [
        "## Instructions\n",
        "\n",
        "1.   Create a [Hugging Face](https://huggingface.co/) account if you do not have one already.\n",
        "2.   Create a read-only [access token](https://huggingface.co/settings/tokens) if you do not have one already.\n",
        "3.   Verify that you have obtained access to the [Stable Diffusion 1.4 repo](https://huggingface.co/CompVis/stable-diffusion-v-1-4-original) or the [Stable Diffusion 2.1 repo](https://huggingface.co/stabilityai/stable-diffusion-2-1).\n",
        "4.   Verify that you have at least 5GB of [free space](https://one.google.com/storage).\n",
        "5.   Verify that you don't have a file or folder called `sd-v1-4.ckpt` or `sd-v2-1.ckpt` on [Google Drive's root folder](https://drive.google.com/drive/my-drive)\n",
        "6.   Scroll down to the \"Copy weights to Goodle Drive\" section and configure the downloader.\n",
        "7.   Run this colab via \"Runtime -> Run all\".\n",
        "8.   You will be prompted to enter your Hugging Face access token under the \"Login to Hugging Face\" section.\n",
        "9.   You will also be prompted to grant this colab access to Google Drive under the \"Mount Google Drive\" section.\n"
      ],
      "metadata": {
        "id": "gXnCAWspToCh"
      }
    },
    {
      "cell_type": "markdown",
      "source": [
        "## _"
      ],
      "metadata": {
        "id": "dEtH_9dEW6sz"
      }
    },
    {
      "cell_type": "code",
      "source": [
        "Model = 'sd-v2-1.ckpt' #@param [\"sd-v1-4.ckpt\", \"sd-v2-1.ckpt\"]\n",
        "!echo \"Selected model '${Model}'\""
      ],
      "metadata": {
        "id": "9C0l0qw5I-s5"
      },
      "execution_count": null,
      "outputs": []
    },
    {
      "cell_type": "code",
      "source": [
        "#@title Install Hugging Face\n",
        "!pip install --upgrade huggingface_hub"
      ],
      "metadata": {
        "cellView": "form",
        "id": "UrZOXnSZnF-Z"
      },
      "execution_count": null,
      "outputs": []
    },
    {
      "cell_type": "code",
      "execution_count": null,
      "metadata": {
        "cellView": "form",
        "id": "ztWKs4GUkjYp"
      },
      "outputs": [],
      "source": [
        "#@title Login to Hugging Face\n",
        "from huggingface_hub import notebook_login\n",
        "#notebook_login()\n",
        "!huggingface-cli login"
      ]
    },
    {
      "cell_type": "code",
      "source": [
        "#@title Download Stable Diffusion weights\n",
        "from huggingface_hub import hf_hub_download\n",
        "import shutil\n",
        "\n",
        "!rm \"/content/${Model}\"\n",
        "if Model == \"sd-v1-4.ckpt\":\n",
        "    sd_path = hf_hub_download(repo_id=\"CompVis/stable-diffusion-v-1-4-original\", filename=\"sd-v1-4.ckpt\")\n",
        "else:\n",
        "    sd_path = hf_hub_download(repo_id=\"stabilityai/stable-diffusion-2-1-base\", filename=\"v2-1_512-ema-pruned.ckpt\")\n",
        "shutil.copyfile(sd_path, \"/content/\" + Model)\n"
      ],
      "metadata": {
        "id": "ufgEFnC0nSOr"
      },
      "execution_count": null,
      "outputs": []
    },
    {
      "cell_type": "code",
      "source": [
        "#@title Mount Google Drive\n",
        "from google.colab import drive\n",
        "drive.mount('/content/gdrive')"
      ],
      "metadata": {
        "cellView": "form",
        "id": "rsXmL3bExTq7"
      },
      "execution_count": null,
      "outputs": []
    },
    {
      "cell_type": "code",
      "source": [
        "#@title Copy weights to Goodle Drive\n",
        "#@markdown The downloaded weights file will not be split if `dl_split_amount` is set to 0.\n",
        "\n",
        "dl_split_amount = 0 #@param {type:\"integer\"}\n",
        "dl_split_type = \"bytes\" #@param [\"bytes\", \"KB\", \"MB\", \"GB\"] \n",
        "\n",
        "dl_split_realtype_list = {\n",
        "    \"bytes\": \"\",\n",
        "    \"KB\": \"K\",\n",
        "    \"MB\": \"M\",\n",
        "    \"GB\": \"G\"\n",
        "}\n",
        "dl_split_realtype = dl_split_realtype_list[dl_split_type]\n",
        "\n",
        "!rm -rf \"/content/gdrive/MyDrive/${Model}\"\n",
        "\n",
        "if dl_split_amount is 0:\n",
        "  print(\"Saving weights to drive...\")\n",
        "  shutil.copy(\"/content/\" + Model, \"/content/gdrive/MyDrive/\" + Model)\n",
        "  print(\"Done!\")\n",
        "else:\n",
        "  !mkdir -p \"/content/gdrive/MyDrive/${Model}\"\n",
        "  print(\"Saving split weights to drive...\")\n",
        "  !split -b $dl_split_amount$dl_split_realtype \"/content/${Model}\" \"/content/gdrive/MyDrive/${Model}/sd_\"\n",
        "  print(\"Done!\")\n"
      ],
      "metadata": {
        "id": "gSy-FqM0ymFF"
      },
      "execution_count": null,
      "outputs": []
    }
  ]
}